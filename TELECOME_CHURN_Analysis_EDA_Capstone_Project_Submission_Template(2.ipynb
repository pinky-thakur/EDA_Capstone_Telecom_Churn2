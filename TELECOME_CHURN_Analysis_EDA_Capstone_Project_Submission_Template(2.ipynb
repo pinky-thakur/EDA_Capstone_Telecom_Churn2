{
  "nbformat": 4,
  "nbformat_minor": 0,
  "metadata": {
    "colab": {
      "private_outputs": true,
      "provenance": [],
      "collapsed_sections": [
        "vncDsAP0Gaoa",
        "FJNUwmbgGyua",
        "w6K7xa23Elo4",
        "yQaldy8SH6Dl",
        "PH-0ReGfmX4f",
        "mDgbUHAGgjLW",
        "O_i_v8NEhb9l",
        "HhfV-JJviCcP",
        "Y3lxredqlCYt",
        "3RnN4peoiCZX",
        "x71ZqKXriCWQ",
        "7hBIi_osiCS2",
        "JlHwYmJAmNHm",
        "35m5QtbWiB9F",
        "PoPl-ycgm1ru",
        "H0kj-8xxnORC",
        "nA9Y7ga8ng1Z",
        "PBTbrJXOngz2",
        "u3PMJOP6ngxN",
        "dauF4eBmngu3",
        "bKJF3rekwFvQ",
        "MSa1f5Uengrz",
        "GF8Ens_Soomf",
        "0wOQAZs5pc--",
        "K5QZ13OEpz2H",
        "lQ7QKXXCp7Bj",
        "448CDAPjqfQr",
        "KSlN3yHqYklG",
        "t6dVpIINYklI",
        "ijmpgYnKYklI",
        "-JiQyfWJYklI",
        "EM7whBJCYoAo",
        "fge-S5ZAYoAp",
        "85gYPyotYoAp",
        "RoGjAbkUYoAp",
        "4Of9eVA-YrdM",
        "iky9q4vBYrdO",
        "F6T5p64dYrdO",
        "y-Ehk30pYrdP",
        "bamQiAODYuh1",
        "QHF8YVU7Yuh3",
        "GwzvFGzlYuh3",
        "qYpmQ266Yuh3",
        "OH-pJp9IphqM",
        "bbFf2-_FphqN",
        "_ouA3fa0phqN",
        "Seke61FWphqN",
        "PIIx-8_IphqN",
        "t27r6nlMphqO",
        "r2jJGEOYphqO",
        "b0JNsNcRphqO",
        "BZR9WyysphqO",
        "jj7wYXLtphqO",
        "eZrbJ2SmphqO",
        "rFu4xreNphqO",
        "YJ55k-q6phqO",
        "gCFgpxoyphqP",
        "OVtJsKN_phqQ",
        "lssrdh5qphqQ",
        "U2RJ9gkRphqQ",
        "1M8mcRywphqQ",
        "tgIPom80phqQ",
        "JMzcOPDDphqR",
        "x-EpHcCOp1ci",
        "X_VqEhTip1ck",
        "8zGJKyg5p1ck",
        "PVzmfK_Ep1ck",
        "n3dbpmDWp1ck",
        "ylSl6qgtp1ck",
        "ZWILFDl5p1ck",
        "M7G43BXep1ck",
        "Ag9LCva-p1cl",
        "E6MkPsBcp1cl",
        "2cELzS2fp1cl",
        "3MPXvC8up1cl",
        "NC_X3p0fY2L0",
        "UV0SzAkaZNRQ",
        "YPEH6qLeZNRQ",
        "q29F0dvdveiT",
        "EXh0U9oCveiU",
        "22aHeOlLveiV",
        "JcMwzZxoAimU",
        "8G2x9gOozGDZ",
        "gCX9965dhzqZ",
        "gIfDvo9L0UH2"
      ],
      "include_colab_link": true
    },
    "kernelspec": {
      "name": "python3",
      "display_name": "Python 3"
    },
    "language_info": {
      "name": "python"
    }
  },
  "cells": [
    {
      "cell_type": "markdown",
      "metadata": {
        "id": "view-in-github",
        "colab_type": "text"
      },
      "source": [
        "<a href=\"https://colab.research.google.com/github/pinky-thakur/EDA_Capstone_Telecom_Churn2/blob/main/TELECOME_CHURN_Analysis_EDA_Capstone_Project_Submission_Template(2.ipynb\" target=\"_parent\"><img src=\"https://colab.research.google.com/assets/colab-badge.svg\" alt=\"Open In Colab\"/></a>"
      ]
    },
    {
      "cell_type": "markdown",
      "source": [
        "# **Project Name**    - Telecome Churn Analysis EDA Project\n",
        "\n"
      ],
      "metadata": {
        "id": "vncDsAP0Gaoa"
      }
    },
    {
      "cell_type": "markdown",
      "source": [
        "##### **Project Type**    - Telecom churn EDA Analysis\n",
        "##### **Contribution**    - Individual\n",
        "##### **Team Member 1 - <b>PINKY THAKUR</b>"
      ],
      "metadata": {
        "id": "beRrZCGUAJYm"
      }
    },
    {
      "cell_type": "markdown",
      "source": [
        "# **Project Summary -**"
      ],
      "metadata": {
        "id": "FJNUwmbgGyua"
      }
    },
    {
      "cell_type": "markdown",
      "source": [
        "Write the summary here within 500-600 words.\n",
        "\n",
        "<b>Orange S.A., formerly France Télécom S.A., is a French multinational telecommunications\n",
        "corporation. The Orange Telecom's Churn Dataset, consisting of customer activity data (features)\n",
        "and a churn label, was analyzed to determine key factors responsible for customer churn and provide\n",
        "recommendations for customer retention. The dataset contained 20 columns and 3333 rows, with\n",
        "16 numerical columns and no missing or duplicate data.\n",
        "Exploratory Data Analysis (EDA) was performed to better understand the data. Data cleaning and\n",
        "removal of duplicacy was performed to ensure the accuracy of the analysis. Data visualization was\n",
        "used to observe patterns and trends in the data. Correlation analysis was performed to identify\n",
        "relationships between variables and to determine which variables had the greatest impact on churn\n",
        "rate.</b>"
      ],
      "metadata": {
        "id": "F6v_1wHtG2nS"
      }
    },
    {
      "cell_type": "markdown",
      "source": [
        "# **GitHub Link -**"
      ],
      "metadata": {
        "id": "w6K7xa23Elo4"
      }
    },
    {
      "cell_type": "markdown",
      "source": [
        "Provide your GitHub Link here.\n",
        "\n",
        "https://github.com/pinky-thakur/EDA_Capstone_Telecom_Churn2"
      ],
      "metadata": {
        "id": "h1o69JH3Eqqn"
      }
    },
    {
      "cell_type": "markdown",
      "source": [
        "# **Problem Statement**\n"
      ],
      "metadata": {
        "id": "yQaldy8SH6Dl"
      }
    },
    {
      "cell_type": "markdown",
      "source": [
        "**Write Problem Statement Here.**\n",
        "\n",
        "Orange S.A., formerly France Télécom S.A., is a French multinational telecommunications corporation. The Orange Telecom's Churn Dataset, consists of cleaned customer activity data (features), along with a churn label specifying whether a customer canceled the subscription.\n",
        "\n",
        "Explore and analyze the data to discover key factors responsible for customer churn and come up with ways/recommendations to ensure customer retention."
      ],
      "metadata": {
        "id": "DpeJGUA3kjGy"
      }
    },
    {
      "cell_type": "markdown",
      "source": [
        "#### **Define Your Business Objective?**"
      ],
      "metadata": {
        "id": "PH-0ReGfmX4f"
      }
    },
    {
      "cell_type": "markdown",
      "source": [
        "Answer Here.\n",
        "\n",
        "<b>\n",
        "The objective is to analyze the Orange Telecom's Churn Dataset and identify key factors that contribute to customer churn. Based on this analysis, we aim to provide recommendations to Orange S.A. on strategies to improve customer retention and reduce churn, ultimately increasing customer loyalty and revenue for the company.</b>"
      ],
      "metadata": {
        "id": "PhDvGCAqmjP1"
      }
    },
    {
      "cell_type": "markdown",
      "source": [
        "# **General Guidelines** : -  "
      ],
      "metadata": {
        "id": "mDgbUHAGgjLW"
      }
    },
    {
      "cell_type": "markdown",
      "source": [
        "1.   Well-structured, formatted, and commented code is required. \n",
        "2.   Exception Handling, Production Grade Code & Deployment Ready Code will be a plus. Those students will be awarded some additional credits. \n",
        "     \n",
        "     The additional credits will have advantages over other students during Star Student selection.\n",
        "       \n",
        "             [ Note: - Deployment Ready Code is defined as, the whole .ipynb notebook should be executable in one go\n",
        "                       without a single error logged. ]\n",
        "\n",
        "3.   Each and every logic should have proper comments.\n",
        "4. You may add as many number of charts you want. Make Sure for each and every chart the following format should be answered.\n",
        "        \n",
        "\n",
        "```\n",
        "# Chart visualization code\n",
        "```\n",
        "            \n",
        "\n",
        "*   Why did you pick the specific chart?\n",
        "*   What is/are the insight(s) found from the chart?\n",
        "* Will the gained insights help creating a positive business impact? \n",
        "Are there any insights that lead to negative growth? Justify with specific reason.\n",
        "\n",
        "5. You have to create at least 20 logical & meaningful charts having important insights.\n",
        "\n",
        "\n",
        "[ Hints : - Do the Vizualization in  a structured way while following \"UBM\" Rule. \n",
        "\n",
        "U - Univariate Analysis,\n",
        "\n",
        "B - Bivariate Analysis (Numerical - Categorical, Numerical - Numerical, Categorical - Categorical)\n",
        "\n",
        "M - Multivariate Analysis\n",
        " ]\n",
        "\n",
        "\n",
        "\n"
      ],
      "metadata": {
        "id": "ZrxVaUj-hHfC"
      }
    },
    {
      "cell_type": "markdown",
      "source": [
        "# ***Let's Begin !***"
      ],
      "metadata": {
        "id": "O_i_v8NEhb9l"
      }
    },
    {
      "cell_type": "markdown",
      "source": [
        "## ***1. Know Your Data***"
      ],
      "metadata": {
        "id": "HhfV-JJviCcP"
      }
    },
    {
      "cell_type": "markdown",
      "source": [
        "### Import Libraries"
      ],
      "metadata": {
        "id": "Y3lxredqlCYt"
      }
    },
    {
      "cell_type": "code",
      "source": [
        "# Import Libraries\n",
        "import pandas as pd\n",
        "import numpy as np\n",
        "import matplotlib.pyplot as plt\n",
        "import seaborn as sns\n",
        "\n",
        "import warnings\n",
        "warnings.filterwarnings('ignore')"
      ],
      "metadata": {
        "id": "M8Vqi-pPk-HR"
      },
      "execution_count": null,
      "outputs": []
    },
    {
      "cell_type": "markdown",
      "source": [
        "### Dataset Loading"
      ],
      "metadata": {
        "id": "3RnN4peoiCZX"
      }
    },
    {
      "cell_type": "code",
      "source": [
        "from google.colab import drive\n",
        "drive.mount('/content/drive')"
      ],
      "metadata": {
        "id": "yCZqvcZN0N65"
      },
      "execution_count": null,
      "outputs": []
    },
    {
      "cell_type": "code",
      "source": [
        "# Load Dataset\n",
        "# loading csv File path\n",
        "file_path = '/content/drive/MyDrive/AlmaBetter_Capstone_Projects/Telecome_Churn_EDA_Analysis_Capstone_Project/Telecom Churn.csv'\n",
        "\n",
        "# Reading dataset from \"Telecom Churn.csv\" using pandas read_csv\n",
        "df = pd.read_csv(file_path)"
      ],
      "metadata": {
        "id": "4CkvbW_SlZ_R"
      },
      "execution_count": null,
      "outputs": []
    },
    {
      "cell_type": "markdown",
      "source": [
        "### Dataset First View"
      ],
      "metadata": {
        "id": "x71ZqKXriCWQ"
      }
    },
    {
      "cell_type": "code",
      "source": [
        "# Dataset First Look\n",
        "df.head()"
      ],
      "metadata": {
        "id": "LWNFOSvLl09H"
      },
      "execution_count": null,
      "outputs": []
    },
    {
      "cell_type": "code",
      "source": [
        "df.tail()"
      ],
      "metadata": {
        "id": "IGtFbp8u0fDV"
      },
      "execution_count": null,
      "outputs": []
    },
    {
      "cell_type": "markdown",
      "source": [
        "### Dataset Rows & Columns count"
      ],
      "metadata": {
        "id": "7hBIi_osiCS2"
      }
    },
    {
      "cell_type": "code",
      "source": [
        "# Dataset Rows & Columns count\n",
        "df.shape"
      ],
      "metadata": {
        "id": "Kllu7SJgmLij"
      },
      "execution_count": null,
      "outputs": []
    },
    {
      "cell_type": "code",
      "source": [
        "print('Number of Columns',df.shape[1])\n",
        "print('Number of Rows',df.shape[0])"
      ],
      "metadata": {
        "id": "HTGx1pwpFiXY"
      },
      "execution_count": null,
      "outputs": []
    },
    {
      "cell_type": "markdown",
      "source": [
        "### Dataset Information"
      ],
      "metadata": {
        "id": "JlHwYmJAmNHm"
      }
    },
    {
      "cell_type": "code",
      "source": [
        "# Dataset Info\n",
        "df.info()"
      ],
      "metadata": {
        "id": "e9hRXRi6meOf"
      },
      "execution_count": null,
      "outputs": []
    },
    {
      "cell_type": "markdown",
      "source": [
        "#### Duplicate Values"
      ],
      "metadata": {
        "id": "35m5QtbWiB9F"
      }
    },
    {
      "cell_type": "code",
      "source": [
        "# Dataset Duplicate Value Count\n",
        "\n",
        "df[df.duplicated()].shape"
      ],
      "metadata": {
        "id": "1sLdpKYkmox0"
      },
      "execution_count": null,
      "outputs": []
    },
    {
      "cell_type": "markdown",
      "source": [
        "#### Missing Values/Null Values"
      ],
      "metadata": {
        "id": "PoPl-ycgm1ru"
      }
    },
    {
      "cell_type": "code",
      "source": [
        "# Missing Values/Null Values Count\n",
        "df.isnull().sum()"
      ],
      "metadata": {
        "id": "GgHWkxvamxVg"
      },
      "execution_count": null,
      "outputs": []
    },
    {
      "cell_type": "code",
      "source": [
        "# Visualizing the missing values\n",
        "# Missing Values/Null Values Count\n",
        "df.isnull().sum().plot(kind = 'bar')\n",
        "plt.show()"
      ],
      "metadata": {
        "id": "3q5wnI3om9sJ"
      },
      "execution_count": null,
      "outputs": []
    },
    {
      "cell_type": "markdown",
      "source": [
        "### What did you know about your dataset?"
      ],
      "metadata": {
        "id": "H0kj-8xxnORC"
      }
    },
    {
      "cell_type": "code",
      "source": [
        "df.columns"
      ],
      "metadata": {
        "id": "0RNSFhjIF1d3"
      },
      "execution_count": null,
      "outputs": []
    },
    {
      "cell_type": "code",
      "source": [
        "categorical_cols = df.select_dtypes(include = 'object').columns\n",
        "\n",
        "print('Categorical columns present in given dataset\\n',\n",
        "      categorical_cols.tolist())\n",
        "\n",
        "print('\\nNumber of categorical columns :',len(categorical_cols))"
      ],
      "metadata": {
        "id": "UJSCUc98GNgh"
      },
      "execution_count": null,
      "outputs": []
    },
    {
      "cell_type": "code",
      "source": [
        "numerical_cols = df.select_dtypes(include = 'number').columns\n",
        "\n",
        "print('Numerical columns present in given dataset\\n',\n",
        "      numerical_cols.tolist())\n",
        "\n",
        "print('\\nNumber of Numerical columns :',len(numerical_cols))"
      ],
      "metadata": {
        "id": "MnDNHyw9GO0Z"
      },
      "execution_count": null,
      "outputs": []
    },
    {
      "cell_type": "code",
      "source": [
        "df.dtypes"
      ],
      "metadata": {
        "id": "vrNi6F0oGa5B"
      },
      "execution_count": null,
      "outputs": []
    },
    {
      "cell_type": "markdown",
      "source": [
        "Answer Here\n",
        "\n",
        "\n",
        "* <b>These is no missing data and also no duplicate data present in the given dataset.</b>\n",
        "\n",
        "* <b>There 3333 rows and 20 columns present in the given dataset</b>\n",
        "\n"
      ],
      "metadata": {
        "id": "gfoNAAC-nUe_"
      }
    },
    {
      "cell_type": "markdown",
      "source": [
        "## ***2. Understanding Your Variables***"
      ],
      "metadata": {
        "id": "nA9Y7ga8ng1Z"
      }
    },
    {
      "cell_type": "code",
      "source": [
        "# Dataset Columns\n",
        "df.columns"
      ],
      "metadata": {
        "id": "j7xfkqrt5Ag5"
      },
      "execution_count": null,
      "outputs": []
    },
    {
      "cell_type": "code",
      "source": [
        "# Dataset Describe\n",
        "\n",
        "df.describe()"
      ],
      "metadata": {
        "id": "DnOaZdaE5Q5t"
      },
      "execution_count": null,
      "outputs": []
    },
    {
      "cell_type": "markdown",
      "source": [
        "### Variables Description "
      ],
      "metadata": {
        "id": "PBTbrJXOngz2"
      }
    },
    {
      "cell_type": "markdown",
      "source": [
        "Answer Here\n",
        "\n",
        "* <b>There is 3 categrical and 16 numerical data and 1 boolean data</b>"
      ],
      "metadata": {
        "id": "aJV4KIxSnxay"
      }
    },
    {
      "cell_type": "markdown",
      "source": [
        "### Check Unique Values for each variable."
      ],
      "metadata": {
        "id": "u3PMJOP6ngxN"
      }
    },
    {
      "cell_type": "code",
      "source": [
        "# Check Unique Values for each variable.\n"
      ],
      "metadata": {
        "id": "zms12Yq5n-jE"
      },
      "execution_count": null,
      "outputs": []
    },
    {
      "cell_type": "markdown",
      "source": [
        "## 3. ***Data Wrangling***"
      ],
      "metadata": {
        "id": "dauF4eBmngu3"
      }
    },
    {
      "cell_type": "markdown",
      "source": [
        "### Data Wrangling Code"
      ],
      "metadata": {
        "id": "bKJF3rekwFvQ"
      }
    },
    {
      "cell_type": "code",
      "source": [
        "# Write your code to make your dataset analysis ready."
      ],
      "metadata": {
        "id": "wk-9a2fpoLcV"
      },
      "execution_count": null,
      "outputs": []
    },
    {
      "cell_type": "markdown",
      "source": [
        "### What all manipulations have you done and insights you found?"
      ],
      "metadata": {
        "id": "MSa1f5Uengrz"
      }
    },
    {
      "cell_type": "markdown",
      "source": [
        "Answer Here."
      ],
      "metadata": {
        "id": "LbyXE7I1olp8"
      }
    },
    {
      "cell_type": "markdown",
      "source": [
        "## ***4. Data Vizualization, Storytelling & Experimenting with charts : Understand the relationships between variables***"
      ],
      "metadata": {
        "id": "GF8Ens_Soomf"
      }
    },
    {
      "cell_type": "markdown",
      "source": [
        "#### Chart - 1"
      ],
      "metadata": {
        "id": "0wOQAZs5pc--"
      }
    },
    {
      "cell_type": "code",
      "source": [
        "# Chart - 1 visualization code\n",
        "df['Voice mail plan'].value_counts()"
      ],
      "metadata": {
        "id": "7v_ESjsspbW7"
      },
      "execution_count": null,
      "outputs": []
    },
    {
      "cell_type": "code",
      "source": [
        "# Visualizing the same Voice mail plan\n",
        "\n",
        "plt.figure(figsize = (8,4))\n",
        "sns.set()\n",
        "plt.title('Count for Voice mail plan')\n",
        "\n",
        "sns.countplot(df['Voice mail plan'])\n",
        "plt.xlabel('Voice mail plan YES | NO')\n",
        "plt.ylabel('Count')\n",
        "\n",
        "plt.show()"
      ],
      "metadata": {
        "id": "SR2MG7U-G_9z"
      },
      "execution_count": null,
      "outputs": []
    },
    {
      "cell_type": "markdown",
      "source": [
        "##### 1. Why did you pick the specific chart?"
      ],
      "metadata": {
        "id": "K5QZ13OEpz2H"
      }
    },
    {
      "cell_type": "markdown",
      "source": [
        "Answer Here.\n",
        "\n",
        "<b>\n",
        "I picked the \"Countplot\" chart to visualize the count of Voice mail plan categories in the given dataset. Countplot is a type of bar graph that represents the count of data points in each category of a categorical variable. It is a simple and effective way to visualize the distribution of categorical data.</b>"
      ],
      "metadata": {
        "id": "XESiWehPqBRc"
      }
    },
    {
      "cell_type": "markdown",
      "source": [
        "##### 2. What is/are the insight(s) found from the chart?"
      ],
      "metadata": {
        "id": "lQ7QKXXCp7Bj"
      }
    },
    {
      "cell_type": "markdown",
      "source": [
        "Answer Here\n",
        "\n",
        "<b>In this graph after visualizing for voice mail plan we can see the the very less amount of people have (Yes) voice mail plan and mostly people have (No) plan for voice mail.</b>"
      ],
      "metadata": {
        "id": "C_j1G7yiqdRP"
      }
    },
    {
      "cell_type": "markdown",
      "source": [
        "##### 3. Will the gained insights help creating a positive business impact? \n",
        "Are there any insights that lead to negative growth? Justify with specific reason."
      ],
      "metadata": {
        "id": "448CDAPjqfQr"
      }
    },
    {
      "cell_type": "markdown",
      "source": [
        "Answer Here\n",
        "\n",
        "<b>\n",
        "The chart does not indicate any insight that could lead to negative growth. However, the absence of a voice mail plan among a large portion of customers may indicate a need to improve the value proposition of the plan or offer more attractive features to increase customer adoption. Failing to address this issue may result in missed business opportunities and decreased revenue in the long run.</b>"
      ],
      "metadata": {
        "id": "3cspy4FjqxJW"
      }
    },
    {
      "cell_type": "markdown",
      "source": [
        "#### Chart - 2"
      ],
      "metadata": {
        "id": "KSlN3yHqYklG"
      }
    },
    {
      "cell_type": "code",
      "source": [
        "df['International plan'].value_counts()"
      ],
      "metadata": {
        "id": "oCaQvA7UHs6B"
      },
      "execution_count": null,
      "outputs": []
    },
    {
      "cell_type": "code",
      "source": [
        "# Chart - 2 visualization code\n",
        "# Visualizing the same International plan\n",
        "\n",
        "plt.figure(figsize = (10,5))\n",
        "sns.set()\n",
        "plt.title('Percent for International plan')\n",
        "\n",
        "df['International plan'].value_counts().plot(kind = 'pie', \n",
        "                                             autopct = '%1.1f%%',\n",
        "                                            explode = [0,0.1],colors = ['cyan','pink'])\n",
        "plt.xlabel('International plan YES | NO')\n",
        "\n",
        "plt.show()"
      ],
      "metadata": {
        "id": "R4YgtaqtYklH"
      },
      "execution_count": null,
      "outputs": []
    },
    {
      "cell_type": "markdown",
      "source": [
        "##### 1. Why did you pick the specific chart?"
      ],
      "metadata": {
        "id": "t6dVpIINYklI"
      }
    },
    {
      "cell_type": "markdown",
      "source": [
        "Answer Here.\n",
        "\n",
        "\n",
        "<b>\n",
        "I picked the \"Pie Chart\" to visualize the percentage distribution of the International plan categories in the given dataset. A Pie chart is an effective way to represent proportions or percentages of a categorical variable.</b>"
      ],
      "metadata": {
        "id": "5aaW0BYyYklI"
      }
    },
    {
      "cell_type": "markdown",
      "source": [
        "##### 2. What is/are the insight(s) found from the chart?"
      ],
      "metadata": {
        "id": "ijmpgYnKYklI"
      }
    },
    {
      "cell_type": "markdown",
      "source": [
        "Answer Here\n",
        "\n",
        "<b>In this pie chart we can see the 90.3% people don't (No) have International plan,\n",
        "\n",
        "only 9.7% of people have(Yes) international plan</b>"
      ],
      "metadata": {
        "id": "PSx9atu2YklI"
      }
    },
    {
      "cell_type": "markdown",
      "source": [
        "##### 3. Will the gained insights help creating a positive business impact? \n",
        "Are there any insights that lead to negative growth? Justify with specific reason."
      ],
      "metadata": {
        "id": "-JiQyfWJYklI"
      }
    },
    {
      "cell_type": "markdown",
      "source": [
        "Answer Here\n",
        "\n",
        "<b>The gained insight can help businesses in the telecommunication industry to develop marketing and sales strategies that are tailored to the preferences of their customers. They could create marketing campaigns targeted towards customers without an International plan or introduce special offers to attract them to switch to an International plan. This can help increase their revenue and profitability.</b>"
      ],
      "metadata": {
        "id": "BcBbebzrYklV"
      }
    },
    {
      "cell_type": "markdown",
      "source": [
        "#### Chart - 3"
      ],
      "metadata": {
        "id": "EM7whBJCYoAo"
      }
    },
    {
      "cell_type": "code",
      "source": [
        "df['Churn'].value_counts()"
      ],
      "metadata": {
        "id": "960tLDKfJ20h"
      },
      "execution_count": null,
      "outputs": []
    },
    {
      "cell_type": "code",
      "source": [
        "# Chart - 3 visualization code\n",
        "# Visualizing the same Churn\n",
        "\n",
        "plt.figure(figsize = (10,5))\n",
        "sns.set()\n",
        "plt.title('Percent for Churn')\n",
        "\n",
        "df['Churn'].value_counts().plot(kind = 'pie',\n",
        "                                autopct = '%1.1f%%',\n",
        "                                explode = [0,0.1],\n",
        "                                colors = ['limegreen','tomato'],\n",
        "                               startangle=60)\n",
        "plt.xlabel('Churn Per True | False')\n",
        "\n",
        "plt.show()"
      ],
      "metadata": {
        "id": "t6GMdE67YoAp"
      },
      "execution_count": null,
      "outputs": []
    },
    {
      "cell_type": "markdown",
      "source": [
        "##### 1. Why did you pick the specific chart?"
      ],
      "metadata": {
        "id": "fge-S5ZAYoAp"
      }
    },
    {
      "cell_type": "markdown",
      "source": [
        "Answer Here.\n",
        "\n",
        "<b>I picked the \"Pie Chart\" to visualize the percentage distribution of the Churn categories in the given dataset. A Pie chart is an effective way to represent proportions or percentages of a categorical variable.</b>"
      ],
      "metadata": {
        "id": "5dBItgRVYoAp"
      }
    },
    {
      "cell_type": "markdown",
      "source": [
        "##### 2. What is/are the insight(s) found from the chart?"
      ],
      "metadata": {
        "id": "85gYPyotYoAp"
      }
    },
    {
      "cell_type": "markdown",
      "source": [
        "Answer Here\n",
        "\n",
        "<b>In this pie chart churn percentage viz True is 14.5%\n",
        "\n",
        "And churn percentage viz False is 85.5%.</b>"
      ],
      "metadata": {
        "id": "4jstXR6OYoAp"
      }
    },
    {
      "cell_type": "markdown",
      "source": [
        "##### 3. Will the gained insights help creating a positive business impact? \n",
        "Are there any insights that lead to negative growth? Justify with specific reason."
      ],
      "metadata": {
        "id": "RoGjAbkUYoAp"
      }
    },
    {
      "cell_type": "markdown",
      "source": [
        "Answer Here\n",
        "\n",
        "<b>The gained insight can help businesses in the telecommunication industry to identify the factors that contribute to customer churn and develop strategies to reduce churn rates. This can include offering better service quality, improving customer support, and developing loyalty programs to retain customers. By addressing customer churn, businesses can increase customer retention and revenue in the long run.</b>"
      ],
      "metadata": {
        "id": "zfJ8IqMcYoAp"
      }
    },
    {
      "cell_type": "markdown",
      "source": [
        "#### Chart - 4"
      ],
      "metadata": {
        "id": "4Of9eVA-YrdM"
      }
    },
    {
      "cell_type": "code",
      "source": [
        "df['Customer service calls'].value_counts()"
      ],
      "metadata": {
        "id": "35EM8Iy4KMN5"
      },
      "execution_count": null,
      "outputs": []
    },
    {
      "cell_type": "code",
      "source": [
        "# Chart - 4 visualization code\n",
        "# Visualizing the same Customer service calls\n",
        "\n",
        "plt.figure(figsize = (10,5))\n",
        "sns.set()\n",
        "plt.title('Customer service calls')\n",
        "\n",
        "sns.countplot(df['Customer service calls'],\n",
        "              order = df['Customer service calls'].value_counts().index,\n",
        "             palette = 'Spectral_r')\n",
        "\n",
        "plt.xlabel('Customer service calls')\n",
        "plt.ylabel('Count')\n",
        "\n",
        "plt.show()"
      ],
      "metadata": {
        "id": "irlUoxc8YrdO"
      },
      "execution_count": null,
      "outputs": []
    },
    {
      "cell_type": "markdown",
      "source": [
        "##### 1. Why did you pick the specific chart?"
      ],
      "metadata": {
        "id": "iky9q4vBYrdO"
      }
    },
    {
      "cell_type": "markdown",
      "source": [
        "Answer Here.\n",
        "\n",
        "<b>I picked the \"Bar Chart\" to visualize the count of the Customer service calls in the given dataset. A bar chart is an effective way to represent the frequency distribution of a categorical variable.</b>"
      ],
      "metadata": {
        "id": "aJRCwT6DYrdO"
      }
    },
    {
      "cell_type": "markdown",
      "source": [
        "##### 2. What is/are the insight(s) found from the chart?"
      ],
      "metadata": {
        "id": "F6T5p64dYrdO"
      }
    },
    {
      "cell_type": "markdown",
      "source": [
        "Answer Here\n",
        "\n",
        "<b>If custormer service calls are 1 and 2 then the count is higher and there is very low rate of customer serivce call more than 3.</b>"
      ],
      "metadata": {
        "id": "Xx8WAJvtYrdO"
      }
    },
    {
      "cell_type": "markdown",
      "source": [
        "##### 3. Will the gained insights help creating a positive business impact? \n",
        "Are there any insights that lead to negative growth? Justify with specific reason."
      ],
      "metadata": {
        "id": "y-Ehk30pYrdP"
      }
    },
    {
      "cell_type": "markdown",
      "source": [
        "Answer Here\n",
        "\n",
        "<b>The gained insight can help businesses in the telecommunication industry to optimize their customer service operations by identifying the most common issues faced by their customers and improving their response time and resolution rate. This can help improve customer satisfaction and retention, leading to a positive impact on the business.</b>"
      ],
      "metadata": {
        "id": "jLNxxz7MYrdP"
      }
    },
    {
      "cell_type": "markdown",
      "source": [
        "#### Chart - 5"
      ],
      "metadata": {
        "id": "bamQiAODYuh1"
      }
    },
    {
      "cell_type": "code",
      "source": [
        "df['Area code'].value_counts()"
      ],
      "metadata": {
        "id": "qNSZBi9OKe1w"
      },
      "execution_count": null,
      "outputs": []
    },
    {
      "cell_type": "code",
      "source": [
        "# Chart - 5 visualization code\n",
        "\n",
        "# Visualizing the same Area Code\n",
        "\n",
        "plt.figure(figsize = (10,5))\n",
        "sns.set()\n",
        "plt.title('Area Code Frequency')\n",
        "\n",
        "sns.countplot(df['Area code'],\n",
        "              order = df['Area code'].value_counts().index,\n",
        "             palette = 'rainbow')\n",
        "\n",
        "plt.xlabel('Area Code')\n",
        "plt.ylabel('Count')\n",
        "\n",
        "plt.show()"
      ],
      "metadata": {
        "id": "TIJwrbroYuh3"
      },
      "execution_count": null,
      "outputs": []
    },
    {
      "cell_type": "markdown",
      "source": [
        "##### 1. Why did you pick the specific chart?"
      ],
      "metadata": {
        "id": "QHF8YVU7Yuh3"
      }
    },
    {
      "cell_type": "markdown",
      "source": [
        "Answer Here.\n",
        "\n",
        "<b>I picked the \"Bar Chart\" to visualize the frequency distribution of the area codes in the given dataset. A bar chart is an effective way to represent the frequency distribution of a categorical variable.</b>"
      ],
      "metadata": {
        "id": "dcxuIMRPYuh3"
      }
    },
    {
      "cell_type": "markdown",
      "source": [
        "##### 2. What is/are the insight(s) found from the chart?"
      ],
      "metadata": {
        "id": "GwzvFGzlYuh3"
      }
    },
    {
      "cell_type": "markdown",
      "source": [
        "Answer Here\n",
        "\n",
        "<b>In this chart the Area code of Frequency 415 has the highest Frequency and 510 and 408 has the similar Area Frequency Code.</b>"
      ],
      "metadata": {
        "id": "uyqkiB8YYuh3"
      }
    },
    {
      "cell_type": "markdown",
      "source": [
        "##### 3. Will the gained insights help creating a positive business impact? \n",
        "Are there any insights that lead to negative growth? Justify with specific reason."
      ],
      "metadata": {
        "id": "qYpmQ266Yuh3"
      }
    },
    {
      "cell_type": "markdown",
      "source": [
        "Answer Here\n",
        "\n",
        "<b>distribution of their customers and target specific areas for marketing and advertising campaigns. It can also help them optimize their network infrastructure and customer service operations based on the distribution of their customers.</b>"
      ],
      "metadata": {
        "id": "_WtzZ_hCYuh4"
      }
    },
    {
      "cell_type": "markdown",
      "source": [
        "#### Chart - 6"
      ],
      "metadata": {
        "id": "OH-pJp9IphqM"
      }
    },
    {
      "cell_type": "code",
      "source": [
        "df['State'].value_counts().head()"
      ],
      "metadata": {
        "id": "VUfWKErdK7Ux"
      },
      "execution_count": null,
      "outputs": []
    },
    {
      "cell_type": "code",
      "source": [
        "# Chart - 6 visualization code\n",
        "\n",
        "# Visualizing the same State\n",
        "\n",
        "plt.figure(figsize = (20,10))\n",
        "sns.set()\n",
        "plt.title('State wise Frequency')\n",
        "\n",
        "sns.countplot(df['State'],\n",
        "              order = df['State'].value_counts().index,\n",
        "              palette = 'rainbow')\n",
        "\n",
        "plt.xlabel('States')\n",
        "plt.ylabel('Count')\n",
        "\n",
        "plt.show()"
      ],
      "metadata": {
        "id": "kuRf4wtuphqN"
      },
      "execution_count": null,
      "outputs": []
    },
    {
      "cell_type": "markdown",
      "source": [
        "##### 1. Why did you pick the specific chart?"
      ],
      "metadata": {
        "id": "bbFf2-_FphqN"
      }
    },
    {
      "cell_type": "markdown",
      "source": [
        "Answer Here.\n",
        "\n",
        "<b>I picked the \"Bar Chart\" to visualize the frequency distribution of customers based on their state in the given dataset. A bar chart is an effective way to represent the frequency distribution of a categorical variable.</b>"
      ],
      "metadata": {
        "id": "loh7H2nzphqN"
      }
    },
    {
      "cell_type": "markdown",
      "source": [
        "##### 2. What is/are the insight(s) found from the chart?"
      ],
      "metadata": {
        "id": "_ouA3fa0phqN"
      }
    },
    {
      "cell_type": "markdown",
      "source": [
        "Answer Here\n",
        "\n",
        "<b>In this graph the WV state has the highest frequency and the CA state has the lowest frequency.</b>"
      ],
      "metadata": {
        "id": "VECbqPI7phqN"
      }
    },
    {
      "cell_type": "markdown",
      "source": [
        "##### 3. Will the gained insights help creating a positive business impact? \n",
        "Are there any insights that lead to negative growth? Justify with specific reason."
      ],
      "metadata": {
        "id": "Seke61FWphqN"
      }
    },
    {
      "cell_type": "markdown",
      "source": [
        "Answer Here\n",
        "\n",
        "<b>The gained insight can help businesses in the telecommunication industry to optimize their marketing and advertising campaigns based on the distribution of their customers in different states. It can also help them improve their network infrastructure and customer service operations in states with a higher number of customers to provide better service quality and customer satisfaction.</b>"
      ],
      "metadata": {
        "id": "DW4_bGpfphqN"
      }
    },
    {
      "cell_type": "markdown",
      "source": [
        "#### Chart - 7"
      ],
      "metadata": {
        "id": "PIIx-8_IphqN"
      }
    },
    {
      "cell_type": "code",
      "source": [
        "# Chart - 7 visualization code\n",
        "\n",
        "plt.figure(figsize=(20,15))\n",
        "count= 1\n",
        "for col in numerical_cols:   \n",
        "    \n",
        "    plt.subplot(5,4,count)\n",
        "    \n",
        "    count += 1\n",
        "    sns.boxplot(df[col])\n",
        "    \n",
        "    plt.tight_layout()"
      ],
      "metadata": {
        "id": "lqAIGUfyphqO"
      },
      "execution_count": null,
      "outputs": []
    },
    {
      "cell_type": "markdown",
      "source": [
        "##### 1. Why did you pick the specific chart?"
      ],
      "metadata": {
        "id": "t27r6nlMphqO"
      }
    },
    {
      "cell_type": "markdown",
      "source": [
        "Answer Here.\n",
        "\n",
        "<b>I picked the \"Box Plot\" to visualize the distribution of each numerical variable in the given dataset. Box plots are an effective way to represent the summary statistics of a numerical variable, including its median, quartiles, and outliers.</b>"
      ],
      "metadata": {
        "id": "iv6ro40sphqO"
      }
    },
    {
      "cell_type": "markdown",
      "source": [
        "##### 2. What is/are the insight(s) found from the chart?"
      ],
      "metadata": {
        "id": "r2jJGEOYphqO"
      }
    },
    {
      "cell_type": "markdown",
      "source": [
        "Answer Here\n",
        "\n",
        "<b>In this analyses we can see (Account length, International plan, Voice mail plan, Number vmail messages, Total day minutes\n",
        "\n",
        "\n",
        "Total day calls, Total day charge, Total eve minutes, Total eve calls, Total eve charge, Total night minutes, Total night calls.\n",
        "\n",
        "\n",
        "Total night charge, Total intl minutes, Total intl calls, Total intl charge, Customer service calls) all the cloumns have outlier except Area code.</b>"
      ],
      "metadata": {
        "id": "Po6ZPi4hphqO"
      }
    },
    {
      "cell_type": "markdown",
      "source": [
        "##### 3. Will the gained insights help creating a positive business impact? \n",
        "Are there any insights that lead to negative growth? Justify with specific reason."
      ],
      "metadata": {
        "id": "b0JNsNcRphqO"
      }
    },
    {
      "cell_type": "markdown",
      "source": [
        "Answer Here\n",
        "\n",
        "<b>The gained insight can help businesses in the telecommunication industry to identify any unusual behavior or errors in data entry that may affect their operations and customer service. It can also help them improve their data quality control and management processes to ensure the accuracy and reliability of their data.</b>"
      ],
      "metadata": {
        "id": "xvSq8iUTphqO"
      }
    },
    {
      "cell_type": "markdown",
      "source": [
        "#### Chart - 8"
      ],
      "metadata": {
        "id": "BZR9WyysphqO"
      }
    },
    {
      "cell_type": "code",
      "source": [
        "# Chart - 8 visualization code\n",
        "\n",
        "plt.figure(figsize=(20,15))\n",
        "count= 1\n",
        "for col in numerical_cols:   \n",
        "    \n",
        "    plt.title(col)\n",
        "    plt.subplot(8,2,count)\n",
        "    count += 1\n",
        "    df[col].plot(kind = 'hist')\n",
        "    plt.tight_layout()\n",
        "    "
      ],
      "metadata": {
        "id": "TdPTWpAVphqO"
      },
      "execution_count": null,
      "outputs": []
    },
    {
      "cell_type": "markdown",
      "source": [
        "##### 1. Why did you pick the specific chart?"
      ],
      "metadata": {
        "id": "jj7wYXLtphqO"
      }
    },
    {
      "cell_type": "markdown",
      "source": [
        "Answer Here.\n",
        "\n",
        "<b>\n",
        "Regarding the histogram visualization of the numerical columns, it can help us to understand the distribution of values in each column. The code provided plots a histogram for each numerical column in the dataset.</b>"
      ],
      "metadata": {
        "id": "Ob8u6rCTphqO"
      }
    },
    {
      "cell_type": "markdown",
      "source": [
        "##### 2. What is/are the insight(s) found from the chart?"
      ],
      "metadata": {
        "id": "eZrbJ2SmphqO"
      }
    },
    {
      "cell_type": "markdown",
      "source": [
        "Answer Here\n",
        "\n",
        "<b>Total daily minutes, total intl charge and number vmail messages are not properly distributed.\n",
        "\n",
        "\n",
        "And all other variables are almost nomally distributed</b>"
      ],
      "metadata": {
        "id": "mZtgC_hjphqO"
      }
    },
    {
      "cell_type": "markdown",
      "source": [
        "##### 3. Will the gained insights help creating a positive business impact? \n",
        "Are there any insights that lead to negative growth? Justify with specific reason."
      ],
      "metadata": {
        "id": "rFu4xreNphqO"
      }
    },
    {
      "cell_type": "markdown",
      "source": [
        "Answer Here\n",
        "\n",
        "<b>The gained insights can be used to create a positive business impact by informing decisions about marketing strategies or product development based on the distribution of customer data.</b>"
      ],
      "metadata": {
        "id": "ey_0qi68phqO"
      }
    },
    {
      "cell_type": "markdown",
      "source": [
        "#### Chart - 9"
      ],
      "metadata": {
        "id": "YJ55k-q6phqO"
      }
    },
    {
      "cell_type": "code",
      "source": [
        "# Chart - 9 visualization code\n",
        "\n",
        "num = 1\n",
        "for i in categorical_cols:\n",
        "    if i == 'State':\n",
        "        print('='*50,i,'vs Churn','='*50)\n",
        "        plt.figure(figsize = (20,10))\n",
        "        sns.barplot(df[i],df['Churn'],palette='rainbow')\n",
        "    else: \n",
        "        print('='*50,i,'vs Churn','='*50)\n",
        "        plt.figure(figsize = (10,5))\n",
        "        sns.barplot(df[i],df['Churn'],palette='rainbow')\n",
        "    plt.show()"
      ],
      "metadata": {
        "id": "B2aS4O1ophqO"
      },
      "execution_count": null,
      "outputs": []
    },
    {
      "cell_type": "markdown",
      "source": [
        "##### 1. Why did you pick the specific chart?"
      ],
      "metadata": {
        "id": "gCFgpxoyphqP"
      }
    },
    {
      "cell_type": "markdown",
      "source": [
        "Answer Here.\n",
        "\n",
        "<b>The chosen charts are bar plots comparing each categorical feature against the target variable, Churn. These charts help to visualize how different categorical features influence the probability of a customer churning.</b>"
      ],
      "metadata": {
        "id": "TVxDimi2phqP"
      }
    },
    {
      "cell_type": "markdown",
      "source": [
        "##### 2. What is/are the insight(s) found from the chart?"
      ],
      "metadata": {
        "id": "OVtJsKN_phqQ"
      }
    },
    {
      "cell_type": "markdown",
      "source": [
        "Answer Here\n",
        "\n",
        "<b>NJ, MA, MT, TX, SC, MD, CA and WA states are having the high rate of CHURN\n",
        "\n",
        "International Plan has very high rate of Churn rate\n",
        "\n",
        "Voice mail plan has the very low rate of churn.</b>"
      ],
      "metadata": {
        "id": "ngGi97qjphqQ"
      }
    },
    {
      "cell_type": "markdown",
      "source": [
        "##### 3. Will the gained insights help creating a positive business impact? \n",
        "Are there any insights that lead to negative growth? Justify with specific reason."
      ],
      "metadata": {
        "id": "lssrdh5qphqQ"
      }
    },
    {
      "cell_type": "markdown",
      "source": [
        "Answer Here\n",
        "\n",
        "<b>The gained insights can help in creating a positive business impact by identifying the features that significantly affect the likelihood of churn, which can help the company to develop targeted strategies to reduce churn rate and retain customers.</b>"
      ],
      "metadata": {
        "id": "tBpY5ekJphqQ"
      }
    },
    {
      "cell_type": "markdown",
      "source": [
        "#### Chart - 10"
      ],
      "metadata": {
        "id": "U2RJ9gkRphqQ"
      }
    },
    {
      "cell_type": "code",
      "source": [
        "def average_rate(column):\n",
        "    return df.groupby(['Area code','Churn'])[column].mean()"
      ],
      "metadata": {
        "id": "asTUiwLQMZHq"
      },
      "execution_count": null,
      "outputs": []
    },
    {
      "cell_type": "code",
      "source": [
        "# Chart - 10 visualization code\n",
        "\n",
        "average_rate('Number vmail messages').unstack().plot(kind = 'bar',\n",
        "                                                    figsize= (10,5),color = ['mediumseagreen','coral'])\n",
        "\n",
        "plt.title('Average Number vmail messages Churn Rate')\n",
        "plt.xlabel('Area Code')\n",
        "plt.ylabel('Average Number vmail messages')\n",
        "\n",
        "plt.show()"
      ],
      "metadata": {
        "id": "GM7a4YP4phqQ"
      },
      "execution_count": null,
      "outputs": []
    },
    {
      "cell_type": "markdown",
      "source": [
        "##### 1. Why did you pick the specific chart?"
      ],
      "metadata": {
        "id": "1M8mcRywphqQ"
      }
    },
    {
      "cell_type": "markdown",
      "source": [
        "Answer Here.\n",
        "\n",
        "\n",
        "<b>The specific chart was chosen to visualize the relationship between the average number of voicemail messages and the churn rate for each area code. The chart shows the average number of voicemail messages for each area code separately for churned and non-churned customers.</b>"
      ],
      "metadata": {
        "id": "8agQvks0phqQ"
      }
    },
    {
      "cell_type": "markdown",
      "source": [
        "##### 2. What is/are the insight(s) found from the chart?"
      ],
      "metadata": {
        "id": "tgIPom80phqQ"
      }
    },
    {
      "cell_type": "markdown",
      "source": [
        "Answer Here\n",
        "\n",
        "\n",
        "<b>In this graph the Average Number vmail messages churn Rate False rate has high in 415 area code and True rate is high in 510 Area code.</b>"
      ],
      "metadata": {
        "id": "Qp13pnNzphqQ"
      }
    },
    {
      "cell_type": "markdown",
      "source": [
        "##### 3. Will the gained insights help creating a positive business impact? \n",
        "Are there any insights that lead to negative growth? Justify with specific reason."
      ],
      "metadata": {
        "id": "JMzcOPDDphqR"
      }
    },
    {
      "cell_type": "markdown",
      "source": [
        "Answer Here\n",
        "\n",
        "<b>These insights can help the business to understand the relationship between the number of voicemail messages and customer churn. Based on these insights, the business can work on improving the voicemail service for customers who receive a lower average number of voicemail messages in order to reduce customer churn.</b>"
      ],
      "metadata": {
        "id": "R4Ka1PC2phqR"
      }
    },
    {
      "cell_type": "markdown",
      "source": [
        "#### Chart - 11"
      ],
      "metadata": {
        "id": "x-EpHcCOp1ci"
      }
    },
    {
      "cell_type": "code",
      "source": [
        "# Chart - 11 visualization code\n",
        "\n",
        "average_rate('Total day minutes').unstack().plot(kind = 'barh',\n",
        "                                                    figsize= (10,5),color = ['limegreen','firebrick'])\n",
        "\n",
        "plt.title('Average Total day minutes Churn Rate')\n",
        "plt.xlabel('Area Code')\n",
        "plt.ylabel('Average Total day minutes')\n",
        "\n",
        "plt.show()"
      ],
      "metadata": {
        "id": "mAQTIvtqp1cj"
      },
      "execution_count": null,
      "outputs": []
    },
    {
      "cell_type": "markdown",
      "source": [
        "##### 1. Why did you pick the specific chart?"
      ],
      "metadata": {
        "id": "X_VqEhTip1ck"
      }
    },
    {
      "cell_type": "markdown",
      "source": [
        "Answer Here.\n",
        "\n",
        "<b>\n",
        "The chart is a horizontal bar plot of the average total day minutes for each area code and churn rate. The y-axis represents the area codes, while the x-axis represents the average total day minutes. The colors green and red are used to represent the churn rates of \"no\" and \"yes,\" respectively.</b>"
      ],
      "metadata": {
        "id": "-vsMzt_np1ck"
      }
    },
    {
      "cell_type": "markdown",
      "source": [
        "##### 2. What is/are the insight(s) found from the chart?"
      ],
      "metadata": {
        "id": "8zGJKyg5p1ck"
      }
    },
    {
      "cell_type": "markdown",
      "source": [
        "Answer Here\n",
        "\n",
        "<b>In this graph the 415 Area code False/True of average total day minute churn rate has high.</b>"
      ],
      "metadata": {
        "id": "ZYdMsrqVp1ck"
      }
    },
    {
      "cell_type": "markdown",
      "source": [
        "##### 3. Will the gained insights help creating a positive business impact? \n",
        "Are there any insights that lead to negative growth? Justify with specific reason."
      ],
      "metadata": {
        "id": "PVzmfK_Ep1ck"
      }
    },
    {
      "cell_type": "markdown",
      "source": [
        "Answer Here\n",
        "\n",
        "<b>The chart is a horizontal bar plot of the average total day minutes for each area code and churn rate. The y-axis represents the area codes, while the x-axis represents the average total day minutes. The colors green and red are used to represent the churn rates of \"no\" and \"yes,\" respectively.</b>"
      ],
      "metadata": {
        "id": "druuKYZpp1ck"
      }
    },
    {
      "cell_type": "markdown",
      "source": [
        "#### Chart - 12"
      ],
      "metadata": {
        "id": "n3dbpmDWp1ck"
      }
    },
    {
      "cell_type": "code",
      "source": [
        "# Chart - 12 visualization code\n",
        "\n",
        "average_rate('Total day calls').unstack().plot(kind = 'bar',\n",
        "                                                    figsize= (10,5),color = ['royalblue','crimson'])\n",
        "\n",
        "plt.title('Average Total day calls Churn Rate')\n",
        "plt.xlabel('Area Code')\n",
        "plt.ylabel('Average Total day minutes')\n",
        "\n",
        "plt.show()"
      ],
      "metadata": {
        "id": "bwevp1tKp1ck"
      },
      "execution_count": null,
      "outputs": []
    },
    {
      "cell_type": "markdown",
      "source": [
        "##### 1. Why did you pick the specific chart?"
      ],
      "metadata": {
        "id": "ylSl6qgtp1ck"
      }
    },
    {
      "cell_type": "markdown",
      "source": [
        "Answer Here.\n",
        "\n",
        "<b>I picked this chart because it allows us to compare the average total day calls for customers who churned and those who did not, based on the area code.</b>"
      ],
      "metadata": {
        "id": "m2xqNkiQp1ck"
      }
    },
    {
      "cell_type": "markdown",
      "source": [
        "##### 2. What is/are the insight(s) found from the chart?"
      ],
      "metadata": {
        "id": "ZWILFDl5p1ck"
      }
    },
    {
      "cell_type": "markdown",
      "source": [
        "Answer Here\n",
        "\n",
        "<b>In the graph here the Average Total day calls Churn False Rate has similar in all area code and True rate has high in 408 and 510 and 415 has low area code.</b>"
      ],
      "metadata": {
        "id": "x-lUsV2mp1ck"
      }
    },
    {
      "cell_type": "markdown",
      "source": [
        "##### 3. Will the gained insights help creating a positive business impact? \n",
        "Are there any insights that lead to negative growth? Justify with specific reason."
      ],
      "metadata": {
        "id": "M7G43BXep1ck"
      }
    },
    {
      "cell_type": "markdown",
      "source": [
        "Answer Here\n",
        "\n",
        "<b>The gained insights may help the business understand the behavior of customers who churned, and take measures to retain them. For example, the business may investigate why customers who made more calls churned and take steps to address their concerns or needs.</b>"
      ],
      "metadata": {
        "id": "5wwDJXsLp1cl"
      }
    },
    {
      "cell_type": "markdown",
      "source": [
        "#### Chart - 13"
      ],
      "metadata": {
        "id": "Ag9LCva-p1cl"
      }
    },
    {
      "cell_type": "code",
      "source": [
        "# Chart - 13 visualization code\n",
        "\n",
        "average_rate('Total eve calls').unstack().plot(kind = 'bar',\n",
        "                                                    figsize= (10,5),color = ['darkmagenta','gray'])\n",
        "\n",
        "plt.title('Average Total eve calls Churn Rate')\n",
        "plt.xlabel('Area Code')\n",
        "plt.ylabel('Total eve calls')\n",
        "\n",
        "plt.show()"
      ],
      "metadata": {
        "id": "EUfxeq9-p1cl"
      },
      "execution_count": null,
      "outputs": []
    },
    {
      "cell_type": "markdown",
      "source": [
        "##### 1. Why did you pick the specific chart?"
      ],
      "metadata": {
        "id": "E6MkPsBcp1cl"
      }
    },
    {
      "cell_type": "markdown",
      "source": [
        "Answer Here.\n",
        "\n",
        "<b>I picked the bar chart to show the average Total eve calls Churn Rate across different area codes.</b>"
      ],
      "metadata": {
        "id": "V22bRsFWp1cl"
      }
    },
    {
      "cell_type": "markdown",
      "source": [
        "##### 2. What is/are the insight(s) found from the chart?"
      ],
      "metadata": {
        "id": "2cELzS2fp1cl"
      }
    },
    {
      "cell_type": "markdown",
      "source": [
        "Answer Here\n",
        "\n",
        "<b>This graph we analysing the Average Total evening calls churn False rate has same in all the Area code and the True rate has little high in Area code 510.</b>"
      ],
      "metadata": {
        "id": "ozQPc2_Ip1cl"
      }
    },
    {
      "cell_type": "markdown",
      "source": [
        "##### 3. Will the gained insights help creating a positive business impact? \n",
        "Are there any insights that lead to negative growth? Justify with specific reason."
      ],
      "metadata": {
        "id": "3MPXvC8up1cl"
      }
    },
    {
      "cell_type": "markdown",
      "source": [
        "Answer Here\n",
        "\n",
        "<b>The gained insights could help in creating a positive business impact by allowing the company to identify areas where their service is more popular, and potentially allocate more resources to these areas to improve customer satisfaction and retention.</b>"
      ],
      "metadata": {
        "id": "GL8l1tdLp1cl"
      }
    },
    {
      "cell_type": "markdown",
      "source": [
        "#### Chart - 14 - Correlation Heatmap"
      ],
      "metadata": {
        "id": "NC_X3p0fY2L0"
      }
    },
    {
      "cell_type": "code",
      "source": [
        "# Correlation Heatmap visualization code\n",
        "correlation = df.corr()\n",
        "\n",
        "plt.figure(figsize=(20,10))\n",
        "\n",
        "plt.title('Correlation Heat Map')\n",
        "\n",
        "sns.heatmap(correlation, annot = True, cmap = 'Spectral')\n",
        "\n",
        "plt.show()"
      ],
      "metadata": {
        "id": "xyC9zolEZNRQ"
      },
      "execution_count": null,
      "outputs": []
    },
    {
      "cell_type": "markdown",
      "source": [
        "##### 1. Why did you pick the specific chart?"
      ],
      "metadata": {
        "id": "UV0SzAkaZNRQ"
      }
    },
    {
      "cell_type": "markdown",
      "source": [
        "Answer Here.\n",
        "\n",
        "<b>I picked the correlation heatmap because it helps to visualize the correlation between all the numerical features in the dataset. This can help identify which features have a strong positive or negative correlation with each other, and can also give an idea about which features might be most important in predicting the target variable, Churn.\n",
        "\n",
        "What is/are the insight(s) found from the chart?</b>"
      ],
      "metadata": {
        "id": "DVPuT8LYZNRQ"
      }
    },
    {
      "cell_type": "markdown",
      "source": [
        "##### 2. What is/are the insight(s) found from the chart?"
      ],
      "metadata": {
        "id": "YPEH6qLeZNRQ"
      }
    },
    {
      "cell_type": "markdown",
      "source": [
        "Answer Here\n",
        "\n",
        "<b>Here we can observe Total night charge is highly correlated with total night minutes, and total eve charge is highly correlated with total eve minutes, total day charge is higly correlated with total day minutes\n",
        "\n",
        "\n",
        "Also total intl calls is highly correlated with total intl minutes.</b>"
      ],
      "metadata": {
        "id": "bfSqtnDqZNRR"
      }
    },
    {
      "cell_type": "markdown",
      "source": [
        "#### Chart - 15 - Pair Plot "
      ],
      "metadata": {
        "id": "q29F0dvdveiT"
      }
    },
    {
      "cell_type": "code",
      "source": [
        "# Pair Plot visualization code\n",
        "\n",
        "sns.pairplot(df.select_dtypes(include = 'number'))\n",
        "plt.show()"
      ],
      "metadata": {
        "id": "o58-TEIhveiU"
      },
      "execution_count": null,
      "outputs": []
    },
    {
      "cell_type": "markdown",
      "source": [
        "##### 1. Why did you pick the specific chart?"
      ],
      "metadata": {
        "id": "EXh0U9oCveiU"
      }
    },
    {
      "cell_type": "markdown",
      "source": [
        "Answer Here.\n",
        "\n",
        "<b>I picked this chart because a pair plot is a graphical representation of the relationship between pairs of variables in a dataset. It is a useful tool for quickly exploring the correlations between multiple variables in a dataset.</b>"
      ],
      "metadata": {
        "id": "eMmPjTByveiU"
      }
    },
    {
      "cell_type": "markdown",
      "source": [
        "##### 2. What is/are the insight(s) found from the chart?"
      ],
      "metadata": {
        "id": "22aHeOlLveiV"
      }
    },
    {
      "cell_type": "markdown",
      "source": [
        "Answer Here"
      ],
      "metadata": {
        "id": "uPQ8RGwHveiV"
      }
    },
    {
      "cell_type": "markdown",
      "source": [
        "## **5. Solution to Business Objective**"
      ],
      "metadata": {
        "id": "JcMwzZxoAimU"
      }
    },
    {
      "cell_type": "markdown",
      "source": [
        "#### What do you suggest the client to achieve Business Objective ? \n",
        "Explain Briefly."
      ],
      "metadata": {
        "id": "8G2x9gOozGDZ"
      }
    },
    {
      "cell_type": "markdown",
      "source": [
        "Answer Here.\n",
        "<b>\n",
        "* In conclusion, we can see that the most influential factors when it comes to churn are international plan, voice mail plan, total day minutes, total day calls, total night minutes, total night calls, total intl minutes, total intl calls.\n",
        "\n",
        "\n",
        "\n",
        "* And customer service calls. Customers with an international plan have a higher risk of churning, while customers with a voice mail plan have a lower risk. Total day minutes, total day calls, total night minutes, total night calls, total intl minutes, total intl calls, and customer service calls all have an impact on churn rate. Furthermore.\n",
        "\n",
        "\n",
        "\n",
        "* we can see that the average total day minutes churn rate has the highest rate in the 415 area code, the average total day calls churn rate is similar in all area codes, and the average total evening calls churn rate has a higher rate in the 510 area code. Additionally, customers with an international plan who have longer talk time have a higher chance of leaving than those with less talk time, and customers with no voice mail plan have a chance of leaving their subscription. Lastly, we can see that total night charge is highly correlated with total night minutes.\n",
        "\n",
        "\n",
        "* Total eve charge is highly correlated with total eve minutes, and total day charge is highly correlated with total day minutes, as well as total intl calls is highly correlated with total intl minutes.</b>\n"
      ],
      "metadata": {
        "id": "pASKb0qOza21"
      }
    },
    {
      "cell_type": "markdown",
      "source": [
        "# **Conclusion**"
      ],
      "metadata": {
        "id": "gCX9965dhzqZ"
      }
    },
    {
      "cell_type": "markdown",
      "source": [
        "Write the conclusion here.\n",
        "\n",
        "\n",
        "<b>* Customers are increasingly opting out of voice mail plans, with only 9.7% of customers currently having one. Churn rates are highest for those customers with international plans, at 14.5%, while those without international plans have a churn rate of only 85.5%. Customers with fewer customer service calls are less likely to leave, with a count much higher for those with calls of 1 and 2. \n",
        "\n",
        "\n",
        "\n",
        "* Area code 415 has the highest frequency while California has the lowest frequency, and NJ, MA, MT, TX, SC, MD, CA, and WA all have higher churn rates. International plans have a much higher churn rate than voice mail plans, and customers with longer talk times who have international plans are also more likely to leave. \n",
        "\n",
        "\n",
        "\n",
        "* Total daily minutes, total international charge and number of voice mail messages are not properly distributed, but all other variables are close to normal distribution. Total night charge is highly correlated with total night minutes, total eve charge is highly correlated with total eve minutes, and total day charge is highly correlated with total day minutes. Similarly, total international calls is highly correlated with total international minutes.</b>"
      ],
      "metadata": {
        "id": "Fjb1IsQkh3yE"
      }
    },
    {
      "cell_type": "markdown",
      "source": [
        "<b>* Customers are increasingly opting out of voice mail plans, with only 9.7% of customers currently having one. Churn rates are highest for those customers with international plans, at 14.5%, while those without international plans have a churn rate of only 85.5%. Customers with fewer customer service calls are less likely to leave, with a count much higher for those with calls of 1 and 2. \n",
        "\n",
        "\n",
        "\n",
        "* Area code 415 has the highest frequency while California has the lowest frequency, and NJ, MA, MT, TX, SC, MD, CA, and WA all have higher churn rates. International plans have a much higher churn rate than voice mail plans, and customers with longer talk times who have international plans are also more likely to leave. \n",
        "\n",
        "\n",
        "\n",
        "* Total daily minutes, total international charge and number of voice mail messages are not properly distributed, but all other variables are close to normal distribution. Total night charge is highly correlated with total night minutes, total eve charge is highly correlated with total eve minutes, and total day charge is highly correlated with total day minutes. Similarly, total international calls is highly correlated with total international minutes.</b>"
      ],
      "metadata": {
        "id": "M7ufaWOEO-f7"
      }
    },
    {
      "cell_type": "markdown",
      "source": [
        "### ***Hurrah! You have successfully completed your EDA Capstone Project !!!***"
      ],
      "metadata": {
        "id": "gIfDvo9L0UH2"
      }
    }
  ]
}